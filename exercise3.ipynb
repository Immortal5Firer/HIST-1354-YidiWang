{
 "cells": [
  {
   "cell_type": "code",
   "execution_count": 28,
   "metadata": {},
   "outputs": [
    {
     "data": {
      "text/plain": [
       "<bound method NDFrame.head of      political_tension  economic_instability  social_movement  \\\n",
       "0                    7                     6                0   \n",
       "1                    4                     1                0   \n",
       "2                    8                     9                0   \n",
       "3                    5                     6                1   \n",
       "4                    7                     3                0   \n",
       "..                 ...                   ...              ...   \n",
       "195                  8                     1                0   \n",
       "196                  5                     2                1   \n",
       "197                  4                     6                0   \n",
       "198                  2                     9                0   \n",
       "199                  6                     8                0   \n",
       "\n",
       "     international_involvement  conflict  \n",
       "0                            0         1  \n",
       "1                            1         0  \n",
       "2                            1         1  \n",
       "3                            0         0  \n",
       "4                            1         0  \n",
       "..                         ...       ...  \n",
       "195                          0         0  \n",
       "196                          1         0  \n",
       "197                          0         0  \n",
       "198                          0         0  \n",
       "199                          1         1  \n",
       "\n",
       "[200 rows x 5 columns]>"
      ]
     },
     "execution_count": 28,
     "metadata": {},
     "output_type": "execute_result"
    }
   ],
   "source": [
    "import pandas as pd\n",
    "import matplotlib.pyplot as plt\n",
    "import numpy as np\n",
    "from sklearn.model_selection import train_test_split\n",
    "from sklearn.linear_model import LogisticRegression\n",
    "from sklearn.metrics import accuracy_score\n",
    "from sklearn.metrics import confusion_matrix\n",
    "import seaborn as sns\n",
    "\n",
    "\n",
    "# Load data from csv file\n",
    "data_path = '/Users/sylvia/Documents/HIST-1354-YidiWang/conflict_factors.csv'\n",
    "df = pd.read_csv(data_path)\n",
    "\n",
    "df.head"
   ]
  },
  {
   "cell_type": "code",
   "execution_count": 29,
   "metadata": {},
   "outputs": [
    {
     "name": "stdout",
     "output_type": "stream",
     "text": [
      "Accuracy: 1.0\n"
     ]
    },
    {
     "data": {
      "image/png": "[encoded data removed]",
      "text/plain": [
       "<Figure size 800x600 with 2 Axes>"
      ]
     },
     "metadata": {},
     "output_type": "display_data"
    }
   ],
   "source": [
    "# Split data into training and testing sets\n",
    "X = df.drop('conflict', axis=1)\n",
    "y = df['conflict']\n",
    "\n",
    "# Code derived from the linear regression example\n",
    "X_train, X_test, y_train, y_test = train_test_split(X, y, test_size=0.2, random_state=42)\n",
    "\n",
    "# Create and train the logistic regression model\n",
    "model = LogisticRegression()\n",
    "model.fit(X_train, y_train)\n",
    "\n",
    "# Make predictions on the testing set\n",
    "y_pred = model.predict(X_test)\n",
    "\n",
    "# Evaluate the Accuracy score\n",
    "accuracy = accuracy_score(y_test, y_pred)\n",
    "print(\"Accuracy:\", accuracy)\n",
    "\n",
    "# Create the confusion matrix\n",
    "cm = confusion_matrix(y_test, y_pred)\n",
    "plt.figure(figsize=(8, 6))\n",
    "sns.heatmap(cm, annot=True, fmt='d', cmap='Blues')\n",
    "plt.xlabel('Predicted')\n",
    "plt.ylabel('Actual')\n",
    "plt.title('Confusion Matrix')\n",
    "plt.show()\n"
   ]
  }
 ],
 "metadata": {
  "kernelspec": {
   "display_name": "clean_env",
   "language": "python",
   "name": "python3"
  },
  "language_info": {
   "codemirror_mode": {
    "name": "ipython",
    "version": 3
   },
   "file_extension": ".py",
   "mimetype": "text/x-python",
   "name": "python",
   "nbconvert_exporter": "python",
   "pygments_lexer": "ipython3",
   "version": "3.11.10"
  }
 },
 "nbformat": 4,
 "nbformat_minor": 2
}
